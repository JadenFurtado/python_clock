{
 "cells": [
  {
   "cell_type": "markdown",
   "metadata": {},
   "source": [
    "# Experiment 2"
   ]
  },
  {
   "cell_type": "markdown",
   "metadata": {},
   "source": [
    "## Name: Jaden Furtado\n",
    "## Roll No: 1902041"
   ]
  },
  {
   "cell_type": "markdown",
   "metadata": {},
   "source": [
    "### Q.1 Python program to"
   ]
  },
  {
   "cell_type": "markdown",
   "metadata": {},
   "source": [
    "#### Theory:\n",
    "##### Creating an array:\n",
    "##### Array in Python can be created by importing array module.\n",
    "    Syntax:\n",
    "    array(data_type, value_list) is used to create an array with data type and value list specified in its arguments.\n",
    "    creating an array with integer type\n",
    "    a = arr.array('i', [1, 2, 3]) \n",
    "##### Adding Elements to an array:\n",
    "##### Elements can be added to the Array by using built-in insert() function. Insert is used to insert one or more data elements into an array.\n",
    "    Syntax:\n",
    "    Insert(index,value)\n",
    "    append() is also used to add the value mentioned in its arguments at the end of the array.\n",
    "    Syntax:\n",
    "    append(value)\n",
    "    Reversing an Array\n",
    "    Reversing an array is same as reversing a list using the reverse() function\n",
    "    Syntax:\n",
    "    Reverse(array_name)\n",
    "    Getting the length in bytes of one array item\n",
    "    Using the inbuilt itemsize keyword we get the length in bytes of one array item\n",
    "    Syntax:\n",
    "    Array_name.itemsize\n",
    "    Removing an item from the array\n",
    "    the pop() method is used to remove an element from the array.\n",
    "    Syntax:\n",
    "    Pop(index)\n",
    "    the remove() method is used to remove an element from the array.\n",
    "##### Converting the array to a string\n",
    "##### We can define a new string and concatenate it with the array using a loop\n",
    "    Example:\n",
    "    print(\"Converting the array to a string: \")\n",
    "    str1 = \" \"\n",
    "    for i in range(0,len(a)):\n",
    "        str1 = str1 + str(a[i])\n",
    "    print(str1)\n",
    "##### The same result can be achieved using list comprehension"
   ]
  },
  {
   "cell_type": "markdown",
   "metadata": {},
   "source": [
    "#### · Read an array and display"
   ]
  },
  {
   "cell_type": "code",
   "execution_count": 1,
   "metadata": {},
   "outputs": [
    {
     "name": "stdin",
     "output_type": "stream",
     "text": [
      "Enter the number of elements in the integer array:  7\n",
      "Enter the element at position 0: 1\n",
      "Enter the element at position 1: 3\n",
      "Enter the element at position 2: 4\n",
      "Enter the element at position 3: 5\n",
      "Enter the element at position 4: 6\n",
      "Enter the element at position 5: 7\n",
      "Enter the element at position 6: 9\n"
     ]
    },
    {
     "name": "stdout",
     "output_type": "stream",
     "text": [
      "The array entered is\n",
      "1 3 4 5 6 7 9 "
     ]
    }
   ],
   "source": [
    "import array\n",
    "n = int(input(\"Enter the number of elements in the integer array: \"))\n",
    "arr1=array.array('i',[])\n",
    "for i in range(n):\n",
    "    inp=int(input(\"Enter the element at position %d:\"%(i)))\n",
    "    arr1.append(inp)\n",
    "print(\"The array entered is\")\n",
    "for i in arr1:\n",
    "    print(i,end=' ')"
   ]
  },
  {
   "cell_type": "markdown",
   "metadata": {},
   "source": [
    "#### · Append a new item to the end of the array."
   ]
  },
  {
   "cell_type": "code",
   "execution_count": 2,
   "metadata": {},
   "outputs": [
    {
     "name": "stdin",
     "output_type": "stream",
     "text": [
      "Would you like to append an element to the array? ENTER Y/y for yes anything else for no:  y\n",
      "Enter the element you would like to append:  2\n",
      "Would you like to append an element to the array? ENTER Y/y for yes anything else for no:  Y\n",
      "Enter the element you would like to append:  10\n",
      "Would you like to append an element to the array? ENTER Y/y for yes anything else for no:  b\n"
     ]
    },
    {
     "name": "stdout",
     "output_type": "stream",
     "text": [
      "The new integer array is: \n",
      "1 3 4 5 6 7 9 2 10 "
     ]
    }
   ],
   "source": [
    "opt='Y'\n",
    "opt=input(\"Would you like to append an element to the array? ENTER Y/y for yes anything else for no: \")\n",
    "while(opt==\"y\"or opt==\"Y\"):\n",
    "    inp=int(input(\"Enter the element you would like to append: \"))\n",
    "    arr1.append(inp)\n",
    "    opt=input(\"Would you like to append an element to the array? ENTER Y/y for yes anything else for no: \")\n",
    "print(\"The new integer array is: \")\n",
    "for i in arr1:\n",
    "    print(i,end=' ')"
   ]
  },
  {
   "cell_type": "markdown",
   "metadata": {},
   "source": [
    "#### · To reverse the order of the items in the array (slice operator"
   ]
  },
  {
   "cell_type": "code",
   "execution_count": 3,
   "metadata": {},
   "outputs": [
    {
     "name": "stdout",
     "output_type": "stream",
     "text": [
      "The array in reverse is: array('i', [10, 2, 9, 7, 6, 5, 4, 3, 1])\n"
     ]
    }
   ],
   "source": [
    "print(\"The array in reverse is:\",arr1[::-1])"
   ]
  },
  {
   "cell_type": "markdown",
   "metadata": {},
   "source": [
    "#### · Get the length in bytes of one array item"
   ]
  },
  {
   "cell_type": "code",
   "execution_count": 4,
   "metadata": {},
   "outputs": [
    {
     "name": "stdout",
     "output_type": "stream",
     "text": [
      "The size of each item in the integer array is:  4\n",
      "The size of each character in the unicode array is: 2\n"
     ]
    }
   ],
   "source": [
    "arr2=array.array('u',['a','t','w','u','i'])\n",
    "print(\"The size of each item in the integer array is: \",arr1.itemsize)\n",
    "print(\"The size of each character in the unicode array is:\",arr2.itemsize)"
   ]
  },
  {
   "cell_type": "markdown",
   "metadata": {},
   "source": [
    "#### · To append items from another array"
   ]
  },
  {
   "cell_type": "code",
   "execution_count": 5,
   "metadata": {},
   "outputs": [
    {
     "name": "stdout",
     "output_type": "stream",
     "text": [
      "The new array is:\n",
      "1 3 4 5 6 7 9 2 10 20 30 40 50 60 "
     ]
    }
   ],
   "source": [
    "arr3=array.array('i',[20,30,40,50,60])\n",
    "arr1.extend(arr3)\n",
    "print(\"The new array is:\")\n",
    "for i in arr1:\n",
    "    print(i,end=' ')"
   ]
  },
  {
   "cell_type": "markdown",
   "metadata": {},
   "source": [
    "#### · Remove a specified item using the index from an array"
   ]
  },
  {
   "cell_type": "code",
   "execution_count": 6,
   "metadata": {},
   "outputs": [
    {
     "name": "stdin",
     "output_type": "stream",
     "text": [
      "Enter the index at which you would like to remove an element:  3\n"
     ]
    },
    {
     "name": "stdout",
     "output_type": "stream",
     "text": [
      "The array after using pop operation to delete an element is:\n",
      "1 3 4 6 7 9 2 10 20 30 40 50 60 "
     ]
    },
    {
     "name": "stdin",
     "output_type": "stream",
     "text": [
      "Enter the index you would like to delete using del operation 6\n"
     ]
    },
    {
     "name": "stdout",
     "output_type": "stream",
     "text": [
      "\n",
      "The array afer using del operation to delete an element is:\n",
      "1 3 4 6 7 9 10 20 30 40 50 60 "
     ]
    }
   ],
   "source": [
    "x=int(input(\"Enter the index at which you would like to remove an element: \"))\n",
    "arr1.pop(x)\n",
    "print(\"The array after using pop operation to delete an element is:\")\n",
    "for i in arr1:\n",
    "    print(i,end=' ')\n",
    "x=int(input(\"Enter the index you would like to delete using del operation\"))\n",
    "del arr1[x]\n",
    "print(\"\\nThe array afer using del operation to delete an element is:\")\n",
    "for i in arr1:\n",
    "    print(i,end=' ')"
   ]
  },
  {
   "cell_type": "markdown",
   "metadata": {},
   "source": [
    "#### · Insert a specified item at the specified position in the array"
   ]
  },
  {
   "cell_type": "code",
   "execution_count": 7,
   "metadata": {},
   "outputs": [
    {
     "name": "stdin",
     "output_type": "stream",
     "text": [
      "Enter the index at which you would like to insert an element: 5\n",
      "Enter the element you would like to insert at the index: 11\n"
     ]
    },
    {
     "name": "stdout",
     "output_type": "stream",
     "text": [
      "The array after the required insertion is:\n",
      "1 3 4 6 7 11 9 10 20 30 40 50 60 "
     ]
    }
   ],
   "source": [
    "ind=int(input(\"Enter the index at which you would like to insert an element:\"))\n",
    "x=int(input(\"Enter the element you would like to insert at the index:\"))\n",
    "arr1.insert(ind,x)\n",
    "print(\"The array after the required insertion is:\")\n",
    "for i in arr1:\n",
    "    print(i,end=' ')"
   ]
  },
  {
   "cell_type": "markdown",
   "metadata": {},
   "source": [
    "#### · Convert the array into a string"
   ]
  },
  {
   "cell_type": "code",
   "execution_count": 8,
   "metadata": {},
   "outputs": [
    {
     "name": "stdout",
     "output_type": "stream",
     "text": [
      "atwui\n",
      "The type of the given argument printed is: <class 'str'>\n"
     ]
    }
   ],
   "source": [
    "st=''.join([str(y) for y in arr2])\n",
    "print(st)\n",
    "print(\"The type of the given argument printed is:\",type(st))\n",
    "#type(st)"
   ]
  },
  {
   "cell_type": "markdown",
   "metadata": {},
   "source": [
    "### Q. 2 Python program to remove prime numbers from an array.\n",
    "\n",
    "#### Sample input arr[] = {3,4,6,9,13,14,16,17}\n",
    "\n",
    "#### Output arr[] = {4,6,9,13,16}"
   ]
  },
  {
   "cell_type": "markdown",
   "metadata": {},
   "source": [
    "#### Theory:\n",
    "\n",
    "##### Creating a function in python\n",
    "##### Syntax of Function\n",
    "    def function_name(parameters):\n",
    "        statement(s)\n",
    "        (return statement may or may not exist depending on the program\n",
    "    Calling a function:\n",
    "    function_name(parameters)"
   ]
  },
  {
   "cell_type": "code",
   "execution_count": 9,
   "metadata": {},
   "outputs": [
    {
     "name": "stdout",
     "output_type": "stream",
     "text": [
      "The array without prime numbers is: \n",
      "6 8 9 14 15 25 33 "
     ]
    }
   ],
   "source": [
    "import math\n",
    "def checkprime(i):\n",
    "    chk=1\n",
    "    while chk<=math.sqrt(i) and i>2:\n",
    "        chk+=1\n",
    "        if (i%chk==0):\n",
    "            return False\n",
    "    return True\n",
    "nonprimearr=array.array('i',[2,3,6,8,9,7,11,14,15,17,25,29,33,37,41])\n",
    "for i in nonprimearr[0::1]:\n",
    "    if checkprime(i):\n",
    "        nonprimearr.remove(i)\n",
    "print(\"The array without prime numbers is: \")\n",
    "for i in nonprimearr:\n",
    "    print(i,end=' ')\n"
   ]
  },
  {
   "cell_type": "markdown",
   "metadata": {},
   "source": [
    "### Q. 3 Python program to change all occurrences of a first character of a string to @ except for first occurrence\n",
    "\n",
    "#### Sample String : 'apple a day'\n",
    "\n",
    "#### Expected Result : 'apple @ d@y'"
   ]
  },
  {
   "cell_type": "markdown",
   "metadata": {},
   "source": [
    "#### Theory\n",
    "##### Replace occurrences by a variable except first character\n",
    "##### Using find, slicing + replace()\n",
    "##### In this, we perform task of replacing entire string from 2nd instance with a variable of the character occurring at 1st instance. The result is prefix joined by first string.\n",
    "    n=stri.find('a')\n",
    "    stri1=stri[n+1::1].replace('a','@')\n",
    "    strin=stri[0:n+1]+stri1"
   ]
  },
  {
   "cell_type": "code",
   "execution_count": 10,
   "metadata": {},
   "outputs": [
    {
     "name": "stdout",
     "output_type": "stream",
     "text": [
      "The new string is:  @ This is an ex@mple to demonstr@te the repl@ce function\n"
     ]
    }
   ],
   "source": [
    "stri='@ This is an example to demonstrate the replace function'\n",
    "n=stri.find('a')\n",
    "if n==-1:\n",
    "    print(\"a does not exist in the string\")\n",
    "    print(stri)\n",
    "else:\n",
    "    stri1=stri[n+1::1].replace('a','@')\n",
    "    strin=stri[0:n+1]+stri1\n",
    "print(\"The new string is: \",strin)"
   ]
  },
  {
   "cell_type": "markdown",
   "metadata": {},
   "source": [
    "### Q. 4 Python Program\n",
    "\n",
    "#### · to sort group of strings into alphabetical order"
   ]
  },
  {
   "cell_type": "markdown",
   "metadata": {},
   "source": [
    "#### Theory:\n",
    "##### Sorting the elements of a list/array:\n",
    "##### The sort() method sorts the elements of a given list in a specific ascending or descending order.\n",
    "##### The syntax of the sort() method is:\n",
    "##### List_name.sort()\n",
    "##### Finding the reverse of a string \n",
    "##### Syntax:\n",
    "s[::-1]"
   ]
  },
  {
   "cell_type": "code",
   "execution_count": 11,
   "metadata": {},
   "outputs": [
    {
     "name": "stdout",
     "output_type": "stream",
     "text": [
      "The strings sorted in alphabetical order is:  ['Chinese', 'English', 'French', 'Hindi', 'Japanese', 'Sanskrit', 'Spanish', 'Urdu']\n"
     ]
    }
   ],
   "source": [
    "lang=['English','Spanish','Hindi','French','Urdu','Sanskrit','Chinese','Japanese']\n",
    "lang.sort()\n",
    "print(\"The strings sorted in alphabetical order is: \",lang)"
   ]
  },
  {
   "cell_type": "markdown",
   "metadata": {},
   "source": [
    "#### · to check whether entered string is palindrome or not"
   ]
  },
  {
   "cell_type": "code",
   "execution_count": 12,
   "metadata": {},
   "outputs": [
    {
     "name": "stdin",
     "output_type": "stream",
     "text": [
      "Enter a string to check whether it is a palindrome or not:  racecar\n"
     ]
    },
    {
     "name": "stdout",
     "output_type": "stream",
     "text": [
      "The given string racecar is a palilndrome\n"
     ]
    }
   ],
   "source": [
    "s=str(input(\"Enter a string to check whether it is a palindrome or not: \"))\n",
    "srev=''.join(reversed(s))\n",
    "if(s==srev):\n",
    "    print(\"The given string\",s,\"is a palilndrome\")\n",
    "else:\n",
    "    print(\"The given string\",s,\"is not a palindrome\")"
   ]
  }
 ],
 "metadata": {
  "kernelspec": {
   "display_name": "Python 3",
   "language": "python",
   "name": "python3"
  },
  "language_info": {
   "codemirror_mode": {
    "name": "ipython",
    "version": 3
   },
   "file_extension": ".py",
   "mimetype": "text/x-python",
   "name": "python",
   "nbconvert_exporter": "python",
   "pygments_lexer": "ipython3",
   "version": "3.8.2"
  }
 },
 "nbformat": 4,
 "nbformat_minor": 4
}
