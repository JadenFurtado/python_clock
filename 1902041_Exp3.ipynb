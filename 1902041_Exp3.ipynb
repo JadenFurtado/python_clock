{
 "cells": [
  {
   "cell_type": "markdown",
   "metadata": {},
   "source": [
    "# Experiment 3"
   ]
  },
  {
   "cell_type": "markdown",
   "metadata": {},
   "source": [
    "## Name: Jaden Furtado\n",
    "\n",
    "## Roll Number: 1902041"
   ]
  },
  {
   "cell_type": "markdown",
   "metadata": {},
   "source": [
    "### Q.1 Write a Python function to check whether a number is perfect or not\n",
    "#### Note:\n",
    "#### The first perfect number is 6, because 1, 2, and 3 are its proper positive divisors, and 1 + 2 + 3 = 6\n",
    "#### Equivalently, the number 6 is equal to half the sum of all its positive divisors:\n",
    "#### (1 + 2 + 3 + 6) / 2 = 6.\n",
    "#### The next perfect number is 28 = 1 + 2 + 4 + 7 + 14.\n",
    "#### This is followed by the perfect numbers 496 and 8128."
   ]
  },
  {
   "cell_type": "markdown",
   "metadata": {},
   "source": [
    "## Theory:\n"
   ]
  },
  {
   "cell_type": "markdown",
   "metadata": {},
   "source": [
    "### Q 1\n",
    "#### A function is a block of organized, reusable code that is used to perform a single, related action. Functions provide better modularity for your application and a high degree of code reusing.\n",
    "#### A function is a block of organized, reusable code that is used to perform a single, related action. Functions provide better modularity for your application and a high degree of code reusing.\n",
    "#### Defining a Function\n",
    "You can define functions to provide the required functionality. Here are simple rules to define a function in Python.\n",
    "Function blocks begin with the keyword def followed by the function name and parentheses ( ( ) ).<br>\n",
    "Any input parameters or arguments should be placed within these parentheses. You can also define parameters inside these parentheses.<br>\n",
    "The first statement of a function can be an optional statement - the documentation string of the function or docstring.<br>\n",
    "The code block within every function starts with a colon (:) and is indented.<br>\n",
    "The statement return [expression] exits a function, optionally passing back an expression to the caller. A return statement with no arguments is the same as return None.<br>\n",
    "##### range() is a built-in function of Python. It is used when a user needs to perform an action for a specific number of times. The range() function is used to generate a sequence of numbers."
   ]
  },
  {
   "cell_type": "code",
   "execution_count": 1,
   "metadata": {},
   "outputs": [
    {
     "name": "stdout",
     "output_type": "stream",
     "text": [
      "6 is a perfect number\n",
      "55 is not a perfect number\n",
      "28 is a perfect number\n",
      "231 is not a perfect number\n",
      "456 is not a perfect number\n",
      "496 is a perfect number\n",
      "3135 is not a perfect number\n"
     ]
    }
   ],
   "source": [
    "def perfnum(i):\n",
    "    x=1\n",
    "    lst=list()\n",
    "    for x in range(1,i):\n",
    "        if i%x==0:\n",
    "            lst.append(x)\n",
    "    if sum(lst)==i:\n",
    "        return True\n",
    "    else:\n",
    "        return False\n",
    "\n",
    "    \n",
    "a=[6,55,28,231,456,496,3135]\n",
    "for i in a:\n",
    "    if perfnum(i):\n",
    "        print(i,\"is a perfect number\")\n",
    "    else:\n",
    "        print(i,\"is not a perfect number\")"
   ]
  },
  {
   "cell_type": "markdown",
   "metadata": {},
   "source": [
    "### Q. 2 Write a Python function to check whether a string is a pangram or not.\n",
    "#### Note: Pangrams are words or sentences containing every letter of the alphabet at least once."
   ]
  },
  {
   "cell_type": "markdown",
   "metadata": {},
   "source": [
    "### Q 2 Theory:\n",
    "\n",
    "#### We solve the problem using list operations and string objects.\n",
    "#### We convert the string to uppercase and remove each element present in it from the refernce list, if all elements are present, we end up with an empty list telling us that the given string is a pangram"
   ]
  },
  {
   "cell_type": "code",
   "execution_count": 2,
   "metadata": {},
   "outputs": [
    {
     "name": "stdout",
     "output_type": "stream",
     "text": [
      "The given string: The quick brown fox jumps over the lazy dog. \tis a pangram\n"
     ]
    },
    {
     "name": "stdin",
     "output_type": "stream",
     "text": [
      "Enter a string to check for a pangram:  This is an example string\n"
     ]
    },
    {
     "name": "stdout",
     "output_type": "stream",
     "text": [
      "The given string: This is an example string \tis not a pangram\n"
     ]
    }
   ],
   "source": [
    "def checkpangram(x):\n",
    "    y=x.upper()\n",
    "    lst=[chr(65+x) for x in range(0,26)]\n",
    "    for i in range(len(y)):\n",
    "        try:\n",
    "            lst.remove(y[i])\n",
    "        except:\n",
    "            pass\n",
    "    if len(lst)==0:\n",
    "        return True\n",
    "    else:\n",
    "        return False\n",
    "    \n",
    "eg1=\"The quick brown fox jumps over the lazy dog.\"\n",
    "if (checkpangram(eg1)):\n",
    "    print(\"The given string:\",eg1,\"\\tis a pangram\")\n",
    "else:\n",
    "    print(\"The given string:\",eg1,\"\\tis not a pangram\")\n",
    "eg2=input(\"Enter a string to check for a pangram: \")\n",
    "if (checkpangram(eg2)):\n",
    "    print(\"The given string:\",eg2,\"\\tis a pangram\")\n",
    "else:\n",
    "    print(\"The given string:\",eg2,\"\\tis not a pangram\")"
   ]
  },
  {
   "cell_type": "markdown",
   "metadata": {},
   "source": [
    "### Q. 3 Python menu driven program to develop simple calculator using variable length argument"
   ]
  },
  {
   "cell_type": "markdown",
   "metadata": {},
   "source": [
    "### Q3 Theory\n",
    "#### The strip() method returns a copy of the string by removing both the leading and the trailing characters (based on the string argument passed).\n",
    "#### The split() method breaks up a string at the specified separator and returns a list of strings.\n",
    "#### Some of the most popular mathematical functions are defined in the math module. These include trigonometric functions, representation functions, logarithmic functions, angle conversion functions, etc. In addition, two mathematical constants are also defined in this module.\n",
    "#### Python has *args which allow us to pass the variable number of non keyword arguments to function. In the function, we should use an asterisk * before the parameter name to pass variable length arguments."
   ]
  },
  {
   "cell_type": "code",
   "execution_count": 3,
   "metadata": {},
   "outputs": [
    {
     "name": "stdout",
     "output_type": "stream",
     "text": [
      "MENU\n",
      "1)Add\n",
      "2)Subtract\n",
      "3)Multiply\n",
      "4)Divide\n",
      "Press any other number to exit\n"
     ]
    },
    {
     "name": "stdin",
     "output_type": "stream",
     "text": [
      "Enter the operation you would like to perform: 1\n",
      "Enter the numbers you would like to add:  3 6 9 4\n"
     ]
    },
    {
     "name": "stdout",
     "output_type": "stream",
     "text": [
      "22\n"
     ]
    },
    {
     "name": "stdin",
     "output_type": "stream",
     "text": [
      "Enter the operation you would like to perform: 2\n",
      "Enter the 2 numbers you would like to subtract:  48 31\n"
     ]
    },
    {
     "name": "stdout",
     "output_type": "stream",
     "text": [
      "17\n"
     ]
    },
    {
     "name": "stdin",
     "output_type": "stream",
     "text": [
      "Enter the operation you would like to perform: 3\n",
      "Enter the 2 numbers you would like to multiply:  67 92\n"
     ]
    },
    {
     "name": "stdout",
     "output_type": "stream",
     "text": [
      "6164\n"
     ]
    },
    {
     "name": "stdin",
     "output_type": "stream",
     "text": [
      "Enter the operation you would like to perform: 4\n",
      "Enter the 2 numbers you would like to divide:  154 7\n"
     ]
    },
    {
     "name": "stdout",
     "output_type": "stream",
     "text": [
      "22.0\n"
     ]
    },
    {
     "name": "stdin",
     "output_type": "stream",
     "text": [
      "Enter the operation you would like to perform: 0\n"
     ]
    }
   ],
   "source": [
    "def add(*args):\n",
    "    print(sum(args))\n",
    "def subtract(*args):\n",
    "    print(args[0]-args[1])\n",
    "def multiply(*args):\n",
    "    print(args[0]*args[1])\n",
    "def divide(*args):\n",
    "    print(args[0]/args[1])\n",
    "print(\"MENU\\n1)Add\\n2)Subtract\\n3)Multiply\\n4)Divide\\nPress any other number to exit\")\n",
    "opt=1\n",
    "while(opt>0 and opt<5):\n",
    "    opt=int(input(\"Enter the operation you would like to perform:\"))\n",
    "    if(opt==1):\n",
    "        lst=[int(x) for x in input(\"Enter the numbers you would like to add: \").strip().split()]\n",
    "        add(*lst)\n",
    "    elif(opt==2):\n",
    "        lst=[int(x) for x in input(\"Enter the 2 numbers you would like to subtract: \").strip().split()]\n",
    "        subtract(*lst)\n",
    "    elif(opt==3):\n",
    "        lst=[int(x) for x in input(\"Enter the 2 numbers you would like to multiply: \").strip().split()]\n",
    "        multiply(*lst)\n",
    "    elif(opt==4):\n",
    "        lst=[int(x) for x in input(\"Enter the 2 numbers you would like to divide: \").strip().split()]\n",
    "        divide(*lst)\n",
    "    else:\n",
    "        exit"
   ]
  },
  {
   "cell_type": "markdown",
   "metadata": {},
   "source": [
    "### Q. 4 Program to calculate factorial of a number using recursion"
   ]
  },
  {
   "cell_type": "markdown",
   "metadata": {},
   "source": [
    "### Q 4 Theory\n",
    "#### The term Recursion can be defined as the process of defining something in terms of itself. In simple words, it is a process in which a function calls itself directly or indirectly.\n",
    "#### Advantages of using recursion\n",
    "A complicated function can be split down into smaller sub-problems utilizing recursion.<br>\n",
    "Sequence creation is simpler through recursion than utilizing any nested iteration.<br>\n",
    "Recursive functions render the code look simple and effective.<br>\n",
    "#### Disadvantages of using recursion\n",
    "A lot of memory and time is taken through recursive calls which makes it expensive for use.<br>\n",
    "Recursive functions are challenging to debug.<br>\n",
    "The reasoning behind recursion can sometimes be tough to think<br>"
   ]
  },
  {
   "cell_type": "code",
   "execution_count": 4,
   "metadata": {},
   "outputs": [
    {
     "name": "stdin",
     "output_type": "stream",
     "text": [
      "Enter the number whose factorial you would like to calculate:  7\n"
     ]
    },
    {
     "name": "stdout",
     "output_type": "stream",
     "text": [
      "5040\n"
     ]
    }
   ],
   "source": [
    "def fact(n):\n",
    "    if n==1:\n",
    "        return 1\n",
    "    else:\n",
    "        return n*fact(n-1)\n",
    "\n",
    "x=int(input(\"Enter the number whose factorial you would like to calculate: \"))\n",
    "print(fact(x))"
   ]
  },
  {
   "cell_type": "markdown",
   "metadata": {},
   "source": [
    "### Q. 5 Python program to calculate square and cube of a number and use two decorators, one to increase result by 4 and another to multiply result by 2."
   ]
  },
  {
   "cell_type": "markdown",
   "metadata": {},
   "source": [
    "### Q 5 Theory\n",
    "#### Decorators are very powerful and useful tool in Python since it allows programmers to modify the behavior of function or class. Decorators allow us to wrap another function in order to extend the behavior of the wrapped function, without permanently modifying it. But before diving deep into decorators let us understand some concepts that will come in handy in learning the decorators.\n",
    "#### First Class Objects\n",
    "In Python, functions are first class objects that means that functions in Python can be used or passed as arguments.<br>\n",
    "#### Properties of first class functions:\n",
    "A function is an instance of the Object type.<br>\n",
    "You can store the function in a variable.<br>\n",
    "You can pass the function as a parameter to another function.<br>\n",
    "You can return the function from a function.<br>\n",
    "You can store them in data structures such as hash tables, lists etc"
   ]
  },
  {
   "cell_type": "code",
   "execution_count": 5,
   "metadata": {},
   "outputs": [
    {
     "name": "stdin",
     "output_type": "stream",
     "text": [
      "Enter the number on whose cubes you would like to perform decorator operations:  5\n"
     ]
    },
    {
     "name": "stdout",
     "output_type": "stream",
     "text": [
      "The result after using the first decorator is: 129\n",
      "The result after using the second decorator is: 250\n"
     ]
    }
   ],
   "source": [
    "def decor1(funct):\n",
    "    def incby4(x):\n",
    "        val=funct(x)\n",
    "        return val+4\n",
    "    return incby4\n",
    "\n",
    "def decor2(funct):\n",
    "    def mulby2(x):\n",
    "        mul=funct(x)\n",
    "        return mul*2\n",
    "    return mulby2\n",
    "\n",
    "def cube(x):\n",
    "    return x*x*x\n",
    "\n",
    "x=int(input(\"Enter the number on whose cubes you would like to perform decorator operations: \"))\n",
    "\n",
    "res1=decor1(cube)\n",
    "print(\"The result after using the first decorator is:\",res1(x))\n",
    "res2=decor2(cube)\n",
    "print(\"The result after using the second decorator is:\",res2(x))\n"
   ]
  },
  {
   "cell_type": "markdown",
   "metadata": {},
   "source": [
    "### Q. 6 Write menu driven python program that accept list of numbers and performs following operation on list written in another module\n",
    "\n",
    "#### · Summation of all elements\n",
    "\n",
    "#### · Product of all elements\n",
    "\n",
    "#### · Summation of elements at even indices\n",
    "\n",
    "#### · add elements in the list"
   ]
  },
  {
   "cell_type": "markdown",
   "metadata": {},
   "source": [
    "### Q 6 Theory\n",
    "#### A file is considered as a module in python. To use the module, you have to import it using the import keyword. The function or variables present inside the file can be used in another file by importing the module. \n",
    "#### A module is a file with python code. The code can be in the form of variables, functions, or class defined. The filename becomes the module name.\n",
    "#### Accessing Modules from Another Directory\n",
    "#### Modules may be useful for more than one programming project, and in that case it makes less sense to keep a module in a particular directory that’s tied to a specific project.\n",
    "#### If you want to use a Python module from a location other than the same directory where your main program is, you have a few options.\n",
    "#### Appending Paths\n",
    "One option is to invoke the path of the module via the programming files that use that module.<br>\n",
    "This should be considered more of a temporary solution that can be done during the development process as it does not make the module available system-wide.<br>\n",
    "To append the path of a module to another programming file, you’ll start by importing the sys module alongside any other modules you wish to use in your main program file.<br>\n",
    "#### Adding the Module to the Python Path\n",
    "A second option that you have is to add the module to the path where Python checks for modules and packages. This is a more permanent solution that makes the module available environment-wide or system-wide, making this method more portable.<br>"
   ]
  },
  {
   "cell_type": "code",
   "execution_count": 6,
   "metadata": {},
   "outputs": [
    {
     "name": "stdin",
     "output_type": "stream",
     "text": [
      "Enter the operation you wish to perform\n",
      "1)Summation of all elements\n",
      "2)Product of all elements\n",
      "3)Summation of elements at even indices\n",
      "4)Sum of elements at required indices\n",
      "Enter any other number to exit:  1\n"
     ]
    },
    {
     "name": "stdout",
     "output_type": "stream",
     "text": [
      "The sum of all elements present in the list is: 266\n"
     ]
    },
    {
     "name": "stdin",
     "output_type": "stream",
     "text": [
      "Enter the operation you wish to perform\n",
      "1)Summation of all elements\n",
      "2)Product of all elements\n",
      "3)Summation of elements at even indices\n",
      "4)Sum of elements at required indices\n",
      "Enter any other number to exit:  2\n"
     ]
    },
    {
     "name": "stdout",
     "output_type": "stream",
     "text": [
      "The product of all elements in the list is: 691528818960\n"
     ]
    },
    {
     "name": "stdin",
     "output_type": "stream",
     "text": [
      "Enter the operation you wish to perform\n",
      "1)Summation of all elements\n",
      "2)Product of all elements\n",
      "3)Summation of elements at even indices\n",
      "4)Sum of elements at required indices\n",
      "Enter any other number to exit:  3\n"
     ]
    },
    {
     "name": "stdout",
     "output_type": "stream",
     "text": [
      "The sum of elements present at even indices is: 113\n"
     ]
    },
    {
     "name": "stdin",
     "output_type": "stream",
     "text": [
      "Enter the operation you wish to perform\n",
      "1)Summation of all elements\n",
      "2)Product of all elements\n",
      "3)Summation of elements at even indices\n",
      "4)Sum of elements at required indices\n",
      "Enter any other number to exit:  4\n",
      "Enter the indices you would like to sum:  2 4 5 7 6\n"
     ]
    },
    {
     "name": "stdout",
     "output_type": "stream",
     "text": [
      "The sum of elements present at the required indices is: 120\n"
     ]
    },
    {
     "name": "stdin",
     "output_type": "stream",
     "text": [
      "Enter the operation you wish to perform\n",
      "1)Summation of all elements\n",
      "2)Product of all elements\n",
      "3)Summation of elements at even indices\n",
      "4)Sum of elements at required indices\n",
      "Enter any other number to exit:  9\n"
     ]
    },
    {
     "data": {
      "text/plain": [
       "'Function terminated'"
      ]
     },
     "execution_count": 6,
     "metadata": {},
     "output_type": "execute_result"
    }
   ],
   "source": [
    "# I've made a listmodule.py in the same directory where jupyter file is saved\n",
    "#listmodule.py\n",
    "#------------\n",
    "#lst=[3,4,5,7,9,28,37,41,59,73]\n",
    "\n",
    "from functools import *\n",
    "import listmodule as lm\n",
    "def listmenu(lst):\n",
    "    opt=1\n",
    "    while(opt>0 and opt<5):\n",
    "        opt=int(input(\"Enter the operation you wish to perform\\n1)Summation of all elements\\n2)Product of all elements\\n3)Summation of elements at even indices\\n4)Sum of elements at required indices\\nEnter any other number to exit: \"))\n",
    "        if opt==1:\n",
    "            print(\"The sum of all elements present in the list is:\",sum(lst))\n",
    "        elif opt==2:\n",
    "            x=reduce(lambda a,b:a*b, lst)\n",
    "            print(\"The product of all elements in the list is:\",x)\n",
    "        elif opt==3:\n",
    "            sumevn=0\n",
    "            for i in range(0,len(lst),2):#starting index from 0, taking it as even\n",
    "                sumevn+=lst[i]\n",
    "            print(\"The sum of elements present at even indices is:\",sumevn)\n",
    "        elif opt==4:\n",
    "            x=[int(y) for y in input(\"Enter the indices you would like to sum: \").strip().split()]\n",
    "            sumind=0\n",
    "            for i in x:\n",
    "                sumind+=lst[i]\n",
    "            print(\"The sum of elements present at the required indices is:\",sumind)\n",
    "        else:\n",
    "            return \"Function terminated\"\n",
    "\n",
    "\n",
    "#numlst=[int(y) for y in input(\"Enter the list  you would like to perform operations on: \").strip().split()]\n",
    "listmenu(lm.lst)"
   ]
  }
 ],
 "metadata": {
  "kernelspec": {
   "display_name": "Python 3",
   "language": "python",
   "name": "python3"
  },
  "language_info": {
   "codemirror_mode": {
    "name": "ipython",
    "version": 3
   },
   "file_extension": ".py",
   "mimetype": "text/x-python",
   "name": "python",
   "nbconvert_exporter": "python",
   "pygments_lexer": "ipython3",
   "version": "3.8.2"
  }
 },
 "nbformat": 4,
 "nbformat_minor": 4
}
